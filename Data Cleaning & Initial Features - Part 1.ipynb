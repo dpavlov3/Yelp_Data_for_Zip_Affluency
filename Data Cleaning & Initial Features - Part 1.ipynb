{
 "cells": [
  {
   "cell_type": "markdown",
   "metadata": {},
   "source": [
    "### Import Statements"
   ]
  },
  {
   "cell_type": "code",
   "execution_count": 72,
   "metadata": {},
   "outputs": [],
   "source": [
    "import pandas as pd\n",
    "import numpy as np\n",
    "\n",
    "from sklearn.cluster import KMeans, k_means\n",
    "from sklearn.metrics import silhouette_score\n",
    "from sklearn.feature_extraction.text import CountVectorizer\n",
    "\n",
    "import matplotlib.pyplot as plt\n",
    "import seaborn as sns\n",
    "\n",
    "%matplotlib inline"
   ]
  },
  {
   "cell_type": "markdown",
   "metadata": {},
   "source": [
    "#### Contents:\n",
    "- [Yelp Data](#Yelp-Data)\n",
    "- [Zillow Data](#Zillow-Data)\n",
    "- [Combined Data](#Combined-Data)\n",
    "- [Basic Features](#Basic-Features)\n",
    "- [Advanced Features](#Advanced-Features)"
   ]
  },
  {
   "cell_type": "markdown",
   "metadata": {},
   "source": [
    "### Yelp Data"
   ]
  },
  {
   "cell_type": "code",
   "execution_count": 73,
   "metadata": {},
   "outputs": [
    {
     "data": {
      "text/html": [
       "<div>\n",
       "<style scoped>\n",
       "    .dataframe tbody tr th:only-of-type {\n",
       "        vertical-align: middle;\n",
       "    }\n",
       "\n",
       "    .dataframe tbody tr th {\n",
       "        vertical-align: top;\n",
       "    }\n",
       "\n",
       "    .dataframe thead th {\n",
       "        text-align: right;\n",
       "    }\n",
       "</style>\n",
       "<table border=\"1\" class=\"dataframe\">\n",
       "  <thead>\n",
       "    <tr style=\"text-align: right;\">\n",
       "      <th></th>\n",
       "      <th>address</th>\n",
       "      <th>attributes</th>\n",
       "      <th>business_id</th>\n",
       "      <th>categories</th>\n",
       "      <th>city</th>\n",
       "      <th>hours</th>\n",
       "      <th>is_open</th>\n",
       "      <th>latitude</th>\n",
       "      <th>longitude</th>\n",
       "      <th>name</th>\n",
       "      <th>neighborhood</th>\n",
       "      <th>postal_code</th>\n",
       "      <th>review_count</th>\n",
       "      <th>stars</th>\n",
       "      <th>state</th>\n",
       "    </tr>\n",
       "  </thead>\n",
       "  <tbody>\n",
       "    <tr>\n",
       "      <th>0</th>\n",
       "      <td>1314 44 Avenue NE</td>\n",
       "      <td>{'BikeParking': 'False', 'BusinessAcceptsCredi...</td>\n",
       "      <td>Apn5Q_b6Nz61Tq4XzPdf9A</td>\n",
       "      <td>Tours, Breweries, Pizza, Restaurants, Food, Ho...</td>\n",
       "      <td>Calgary</td>\n",
       "      <td>{'Monday': '8:30-17:0', 'Tuesday': '11:0-21:0'...</td>\n",
       "      <td>1</td>\n",
       "      <td>51.091813</td>\n",
       "      <td>-114.031675</td>\n",
       "      <td>Minhas Micro Brewery</td>\n",
       "      <td></td>\n",
       "      <td>T2E 6L6</td>\n",
       "      <td>24</td>\n",
       "      <td>4.0</td>\n",
       "      <td>AB</td>\n",
       "    </tr>\n",
       "    <tr>\n",
       "      <th>1</th>\n",
       "      <td></td>\n",
       "      <td>{'Alcohol': 'none', 'BikeParking': 'False', 'B...</td>\n",
       "      <td>AjEbIBw6ZFfln7ePHha9PA</td>\n",
       "      <td>Chicken Wings, Burgers, Caterers, Street Vendo...</td>\n",
       "      <td>Henderson</td>\n",
       "      <td>{'Friday': '17:0-23:0', 'Saturday': '17:0-23:0...</td>\n",
       "      <td>0</td>\n",
       "      <td>35.960734</td>\n",
       "      <td>-114.939821</td>\n",
       "      <td>CK'S BBQ &amp; Catering</td>\n",
       "      <td></td>\n",
       "      <td>89002</td>\n",
       "      <td>3</td>\n",
       "      <td>4.5</td>\n",
       "      <td>NV</td>\n",
       "    </tr>\n",
       "    <tr>\n",
       "      <th>2</th>\n",
       "      <td>1335 rue Beaubien E</td>\n",
       "      <td>{'Alcohol': 'beer_and_wine', 'Ambience': '{'ro...</td>\n",
       "      <td>O8S5hYJ1SMc8fA4QBtVujA</td>\n",
       "      <td>Breakfast &amp; Brunch, Restaurants, French, Sandw...</td>\n",
       "      <td>Montréal</td>\n",
       "      <td>{'Monday': '10:0-22:0', 'Tuesday': '10:0-22:0'...</td>\n",
       "      <td>0</td>\n",
       "      <td>45.540503</td>\n",
       "      <td>-73.599300</td>\n",
       "      <td>La Bastringue</td>\n",
       "      <td>Rosemont-La Petite-Patrie</td>\n",
       "      <td>H2G 1K7</td>\n",
       "      <td>5</td>\n",
       "      <td>4.0</td>\n",
       "      <td>QC</td>\n",
       "    </tr>\n",
       "  </tbody>\n",
       "</table>\n",
       "</div>"
      ],
      "text/plain": [
       "               address                                         attributes  \\\n",
       "0    1314 44 Avenue NE  {'BikeParking': 'False', 'BusinessAcceptsCredi...   \n",
       "1                       {'Alcohol': 'none', 'BikeParking': 'False', 'B...   \n",
       "2  1335 rue Beaubien E  {'Alcohol': 'beer_and_wine', 'Ambience': '{'ro...   \n",
       "\n",
       "              business_id                                         categories  \\\n",
       "0  Apn5Q_b6Nz61Tq4XzPdf9A  Tours, Breweries, Pizza, Restaurants, Food, Ho...   \n",
       "1  AjEbIBw6ZFfln7ePHha9PA  Chicken Wings, Burgers, Caterers, Street Vendo...   \n",
       "2  O8S5hYJ1SMc8fA4QBtVujA  Breakfast & Brunch, Restaurants, French, Sandw...   \n",
       "\n",
       "        city                                              hours  is_open  \\\n",
       "0    Calgary  {'Monday': '8:30-17:0', 'Tuesday': '11:0-21:0'...        1   \n",
       "1  Henderson  {'Friday': '17:0-23:0', 'Saturday': '17:0-23:0...        0   \n",
       "2   Montréal  {'Monday': '10:0-22:0', 'Tuesday': '10:0-22:0'...        0   \n",
       "\n",
       "    latitude   longitude                  name               neighborhood  \\\n",
       "0  51.091813 -114.031675  Minhas Micro Brewery                              \n",
       "1  35.960734 -114.939821   CK'S BBQ & Catering                              \n",
       "2  45.540503  -73.599300         La Bastringue  Rosemont-La Petite-Patrie   \n",
       "\n",
       "  postal_code  review_count  stars state  \n",
       "0     T2E 6L6            24    4.0    AB  \n",
       "1       89002             3    4.5    NV  \n",
       "2     H2G 1K7             5    4.0    QC  "
      ]
     },
     "execution_count": 73,
     "metadata": {},
     "output_type": "execute_result"
    }
   ],
   "source": [
    "# Importing yelp data\n",
    "df = pd.read_json('Data/yelp_academic_dataset_business.json', lines = True)\n",
    "df.head(3)"
   ]
  },
  {
   "cell_type": "code",
   "execution_count": 74,
   "metadata": {},
   "outputs": [
    {
     "data": {
      "text/plain": [
       "(188593, 15)"
      ]
     },
     "execution_count": 74,
     "metadata": {},
     "output_type": "execute_result"
    }
   ],
   "source": [
    "# checking shape\n",
    "df.shape"
   ]
  },
  {
   "cell_type": "code",
   "execution_count": 75,
   "metadata": {},
   "outputs": [
    {
     "data": {
      "text/plain": [
       "state\n",
       "AZ     56495\n",
       "NV     35688\n",
       "ON     32393\n",
       "NC     14359\n",
       "OH     13664\n",
       "PA     10966\n",
       "QC      8756\n",
       "AB      7670\n",
       "WI      5042\n",
       "IL      1937\n",
       "SC       770\n",
       "NYK      163\n",
       "NI       134\n",
       "IN       101\n",
       "OR        72\n",
       "BY        60\n",
       "ST        45\n",
       "CO        43\n",
       "C         34\n",
       "HE        32\n",
       "Name: postal_code, dtype: int64"
      ]
     },
     "execution_count": 75,
     "metadata": {},
     "output_type": "execute_result"
    }
   ],
   "source": [
    "#Identifying the available data by state with unique zip codes\n",
    "df.groupby('state').count()['postal_code'].sort_values(ascending = False).head(20)"
   ]
  },
  {
   "cell_type": "code",
   "execution_count": 76,
   "metadata": {},
   "outputs": [],
   "source": [
    "# Limit the data to US and to states with most zip codes\n",
    "df = df[(df['state'] == 'AZ')|(df['state']== 'NV')|(df['state']=='NC')|(df['state'] ==\"OH\")|(df['state']=='PA')|(df['state']=='WI')]#|(df['state']=='SC')|(df['state']=='IL')]\n"
   ]
  },
  {
   "cell_type": "code",
   "execution_count": 77,
   "metadata": {},
   "outputs": [
    {
     "data": {
      "text/plain": [
       "(136214, 15)"
      ]
     },
     "execution_count": 77,
     "metadata": {},
     "output_type": "execute_result"
    }
   ],
   "source": [
    "df.shape"
   ]
  },
  {
   "cell_type": "code",
   "execution_count": 78,
   "metadata": {
    "scrolled": true
   },
   "outputs": [
    {
     "data": {
      "text/plain": [
       "address             0\n",
       "attributes      19064\n",
       "business_id         0\n",
       "categories        410\n",
       "city                0\n",
       "hours           30097\n",
       "is_open             0\n",
       "latitude            4\n",
       "longitude           4\n",
       "name                0\n",
       "neighborhood        0\n",
       "postal_code         0\n",
       "review_count        0\n",
       "stars               0\n",
       "state               0\n",
       "dtype: int64"
      ]
     },
     "execution_count": 78,
     "metadata": {},
     "output_type": "execute_result"
    }
   ],
   "source": [
    "# checking number of missing values\n",
    "df.isnull().sum()"
   ]
  },
  {
   "cell_type": "code",
   "execution_count": 79,
   "metadata": {},
   "outputs": [],
   "source": [
    "# dropping unnecessary columns\n",
    "df = df.drop(['address', 'city'], axis=1)\n",
    "\n",
    "# dropping columns that are suspected of being poor predictors and have many missing values \n",
    "df = df.drop(['attributes', 'hours', 'neighborhood'], axis=1)"
   ]
  },
  {
   "cell_type": "code",
   "execution_count": 80,
   "metadata": {},
   "outputs": [
    {
     "data": {
      "text/plain": [
       "1    Chicken Wings, Burgers, Caterers, Street Vendo...\n",
       "3                        Insurance, Financial Services\n",
       "5                                   Coffee & Tea, Food\n",
       "8                                 Mexican, Restaurants\n",
       "9                Flowers & Gifts, Gift Shops, Shopping\n",
       "Name: categories, dtype: object"
      ]
     },
     "execution_count": 80,
     "metadata": {},
     "output_type": "execute_result"
    }
   ],
   "source": [
    "df['categories'].head()"
   ]
  },
  {
   "cell_type": "code",
   "execution_count": 81,
   "metadata": {},
   "outputs": [],
   "source": [
    "# Create features based on number of restaurant categories for each business\n",
    "\n",
    "# instantiating count vectorizer\n",
    "vectorizer = CountVectorizer(analyzer = \"word\",   \n",
    "                             tokenizer = None,    \n",
    "                             preprocessor = None, \n",
    "                             stop_words = None) \n",
    "\n",
    "# applying count vectorizer to yelp categories column\n",
    "df['categories'] = df['categories'].fillna('missing')\n",
    "cat_vector = vectorizer.fit_transform(df['categories']).toarray()\n",
    "\n",
    "# merging results with original yelp data frame\n",
    "cat_vector_df = pd.DataFrame(cat_vector, columns = vectorizer.get_feature_names())\n",
    "df = pd.merge(left = df, right = cat_vector_df, on=df.index).drop('key_0', axis=1)"
   ]
  },
  {
   "cell_type": "code",
   "execution_count": 82,
   "metadata": {},
   "outputs": [
    {
     "data": {
      "text/plain": [
       "latitude     4\n",
       "longitude    4\n",
       "dtype: int64"
      ]
     },
     "execution_count": 82,
     "metadata": {},
     "output_type": "execute_result"
    }
   ],
   "source": [
    "# Checking for nulls\n",
    "df.isnull().sum()[df.isnull().sum()>0]"
   ]
  },
  {
   "cell_type": "code",
   "execution_count": 83,
   "metadata": {},
   "outputs": [],
   "source": [
    "df = df.dropna()"
   ]
  },
  {
   "cell_type": "code",
   "execution_count": 84,
   "metadata": {},
   "outputs": [
    {
     "data": {
      "text/html": [
       "<div>\n",
       "<style scoped>\n",
       "    .dataframe tbody tr th:only-of-type {\n",
       "        vertical-align: middle;\n",
       "    }\n",
       "\n",
       "    .dataframe tbody tr th {\n",
       "        vertical-align: top;\n",
       "    }\n",
       "\n",
       "    .dataframe thead th {\n",
       "        text-align: right;\n",
       "    }\n",
       "</style>\n",
       "<table border=\"1\" class=\"dataframe\">\n",
       "  <thead>\n",
       "    <tr style=\"text-align: right;\">\n",
       "      <th></th>\n",
       "      <th>business_id</th>\n",
       "      <th>categories</th>\n",
       "      <th>is_open</th>\n",
       "      <th>latitude</th>\n",
       "      <th>longitude</th>\n",
       "      <th>name</th>\n",
       "      <th>postal_code</th>\n",
       "      <th>review_count</th>\n",
       "      <th>stars</th>\n",
       "      <th>state</th>\n",
       "      <th>...</th>\n",
       "      <th>women</th>\n",
       "      <th>workers</th>\n",
       "      <th>wraps</th>\n",
       "      <th>yelp</th>\n",
       "      <th>yoga</th>\n",
       "      <th>yogurt</th>\n",
       "      <th>your</th>\n",
       "      <th>yourself</th>\n",
       "      <th>ziplining</th>\n",
       "      <th>zoos</th>\n",
       "    </tr>\n",
       "  </thead>\n",
       "  <tbody>\n",
       "    <tr>\n",
       "      <th>0</th>\n",
       "      <td>AjEbIBw6ZFfln7ePHha9PA</td>\n",
       "      <td>Chicken Wings, Burgers, Caterers, Street Vendo...</td>\n",
       "      <td>0</td>\n",
       "      <td>35.960734</td>\n",
       "      <td>-114.939821</td>\n",
       "      <td>CK'S BBQ &amp; Catering</td>\n",
       "      <td>89002</td>\n",
       "      <td>3</td>\n",
       "      <td>4.5</td>\n",
       "      <td>NV</td>\n",
       "      <td>...</td>\n",
       "      <td>0</td>\n",
       "      <td>0</td>\n",
       "      <td>0</td>\n",
       "      <td>0</td>\n",
       "      <td>0</td>\n",
       "      <td>0</td>\n",
       "      <td>0</td>\n",
       "      <td>0</td>\n",
       "      <td>0</td>\n",
       "      <td>0</td>\n",
       "    </tr>\n",
       "    <tr>\n",
       "      <th>1</th>\n",
       "      <td>bFzdJJ3wp3PZssNEsyU23g</td>\n",
       "      <td>Insurance, Financial Services</td>\n",
       "      <td>1</td>\n",
       "      <td>33.449999</td>\n",
       "      <td>-112.076979</td>\n",
       "      <td>Geico Insurance</td>\n",
       "      <td>85003</td>\n",
       "      <td>8</td>\n",
       "      <td>1.5</td>\n",
       "      <td>AZ</td>\n",
       "      <td>...</td>\n",
       "      <td>0</td>\n",
       "      <td>0</td>\n",
       "      <td>0</td>\n",
       "      <td>0</td>\n",
       "      <td>0</td>\n",
       "      <td>0</td>\n",
       "      <td>0</td>\n",
       "      <td>0</td>\n",
       "      <td>0</td>\n",
       "      <td>0</td>\n",
       "    </tr>\n",
       "    <tr>\n",
       "      <th>2</th>\n",
       "      <td>45bWSZtniwPRiqlivpS8Og</td>\n",
       "      <td>Coffee &amp; Tea, Food</td>\n",
       "      <td>1</td>\n",
       "      <td>33.671375</td>\n",
       "      <td>-112.030017</td>\n",
       "      <td>The Coffee Bean &amp; Tea Leaf</td>\n",
       "      <td>85024</td>\n",
       "      <td>63</td>\n",
       "      <td>4.0</td>\n",
       "      <td>AZ</td>\n",
       "      <td>...</td>\n",
       "      <td>0</td>\n",
       "      <td>0</td>\n",
       "      <td>0</td>\n",
       "      <td>0</td>\n",
       "      <td>0</td>\n",
       "      <td>0</td>\n",
       "      <td>0</td>\n",
       "      <td>0</td>\n",
       "      <td>0</td>\n",
       "      <td>0</td>\n",
       "    </tr>\n",
       "  </tbody>\n",
       "</table>\n",
       "<p>3 rows × 1366 columns</p>\n",
       "</div>"
      ],
      "text/plain": [
       "              business_id                                         categories  \\\n",
       "0  AjEbIBw6ZFfln7ePHha9PA  Chicken Wings, Burgers, Caterers, Street Vendo...   \n",
       "1  bFzdJJ3wp3PZssNEsyU23g                      Insurance, Financial Services   \n",
       "2  45bWSZtniwPRiqlivpS8Og                                 Coffee & Tea, Food   \n",
       "\n",
       "   is_open   latitude   longitude                        name postal_code  \\\n",
       "0        0  35.960734 -114.939821         CK'S BBQ & Catering       89002   \n",
       "1        1  33.449999 -112.076979             Geico Insurance       85003   \n",
       "2        1  33.671375 -112.030017  The Coffee Bean & Tea Leaf       85024   \n",
       "\n",
       "   review_count  stars state  ...   women  workers  wraps  yelp  yoga  yogurt  \\\n",
       "0             3    4.5    NV  ...       0        0      0     0     0       0   \n",
       "1             8    1.5    AZ  ...       0        0      0     0     0       0   \n",
       "2            63    4.0    AZ  ...       0        0      0     0     0       0   \n",
       "\n",
       "   your  yourself  ziplining  zoos  \n",
       "0     0         0          0     0  \n",
       "1     0         0          0     0  \n",
       "2     0         0          0     0  \n",
       "\n",
       "[3 rows x 1366 columns]"
      ]
     },
     "execution_count": 84,
     "metadata": {},
     "output_type": "execute_result"
    }
   ],
   "source": [
    "# checking first three rows after count vectorizer operation\n",
    "df.head(3)"
   ]
  },
  {
   "cell_type": "code",
   "execution_count": 85,
   "metadata": {},
   "outputs": [],
   "source": [
    "# drop unnecessary columns\n",
    "df = df.drop(['business_id', 'categories'], axis=1)\n"
   ]
  },
  {
   "cell_type": "code",
   "execution_count": 86,
   "metadata": {},
   "outputs": [],
   "source": [
    "#### Combining the data"
   ]
  },
  {
   "cell_type": "code",
   "execution_count": 87,
   "metadata": {},
   "outputs": [
    {
     "data": {
      "text/html": [
       "<div>\n",
       "<style scoped>\n",
       "    .dataframe tbody tr th:only-of-type {\n",
       "        vertical-align: middle;\n",
       "    }\n",
       "\n",
       "    .dataframe tbody tr th {\n",
       "        vertical-align: top;\n",
       "    }\n",
       "\n",
       "    .dataframe thead th {\n",
       "        text-align: right;\n",
       "    }\n",
       "</style>\n",
       "<table border=\"1\" class=\"dataframe\">\n",
       "  <thead>\n",
       "    <tr style=\"text-align: right;\">\n",
       "      <th></th>\n",
       "      <th>is_open</th>\n",
       "      <th>latitude</th>\n",
       "      <th>longitude</th>\n",
       "      <th>review_count</th>\n",
       "      <th>stars</th>\n",
       "      <th>3d</th>\n",
       "      <th>abatement</th>\n",
       "      <th>acai</th>\n",
       "      <th>accessories</th>\n",
       "      <th>accountants</th>\n",
       "      <th>...</th>\n",
       "      <th>workers</th>\n",
       "      <th>wraps</th>\n",
       "      <th>yelp</th>\n",
       "      <th>yoga</th>\n",
       "      <th>yogurt</th>\n",
       "      <th>your</th>\n",
       "      <th>yourself</th>\n",
       "      <th>ziplining</th>\n",
       "      <th>zoos</th>\n",
       "      <th>total</th>\n",
       "    </tr>\n",
       "    <tr>\n",
       "      <th>postal_code</th>\n",
       "      <th></th>\n",
       "      <th></th>\n",
       "      <th></th>\n",
       "      <th></th>\n",
       "      <th></th>\n",
       "      <th></th>\n",
       "      <th></th>\n",
       "      <th></th>\n",
       "      <th></th>\n",
       "      <th></th>\n",
       "      <th></th>\n",
       "      <th></th>\n",
       "      <th></th>\n",
       "      <th></th>\n",
       "      <th></th>\n",
       "      <th></th>\n",
       "      <th></th>\n",
       "      <th></th>\n",
       "      <th></th>\n",
       "      <th></th>\n",
       "      <th></th>\n",
       "    </tr>\n",
       "  </thead>\n",
       "  <tbody>\n",
       "    <tr>\n",
       "      <th></th>\n",
       "      <td>371</td>\n",
       "      <td>14514.917699</td>\n",
       "      <td>-43502.208616</td>\n",
       "      <td>4273</td>\n",
       "      <td>1474.5</td>\n",
       "      <td>0</td>\n",
       "      <td>0</td>\n",
       "      <td>0</td>\n",
       "      <td>0</td>\n",
       "      <td>0</td>\n",
       "      <td>...</td>\n",
       "      <td>0</td>\n",
       "      <td>1</td>\n",
       "      <td>2</td>\n",
       "      <td>0</td>\n",
       "      <td>2</td>\n",
       "      <td>0</td>\n",
       "      <td>0</td>\n",
       "      <td>0</td>\n",
       "      <td>0</td>\n",
       "      <td>410</td>\n",
       "    </tr>\n",
       "    <tr>\n",
       "      <th>06280</th>\n",
       "      <td>1</td>\n",
       "      <td>36.166228</td>\n",
       "      <td>-115.192580</td>\n",
       "      <td>3</td>\n",
       "      <td>5.0</td>\n",
       "      <td>0</td>\n",
       "      <td>0</td>\n",
       "      <td>0</td>\n",
       "      <td>0</td>\n",
       "      <td>0</td>\n",
       "      <td>...</td>\n",
       "      <td>0</td>\n",
       "      <td>0</td>\n",
       "      <td>0</td>\n",
       "      <td>0</td>\n",
       "      <td>0</td>\n",
       "      <td>0</td>\n",
       "      <td>0</td>\n",
       "      <td>0</td>\n",
       "      <td>0</td>\n",
       "      <td>1</td>\n",
       "    </tr>\n",
       "    <tr>\n",
       "      <th>08054</th>\n",
       "      <td>1</td>\n",
       "      <td>39.980331</td>\n",
       "      <td>-74.858983</td>\n",
       "      <td>5</td>\n",
       "      <td>4.0</td>\n",
       "      <td>0</td>\n",
       "      <td>0</td>\n",
       "      <td>0</td>\n",
       "      <td>0</td>\n",
       "      <td>0</td>\n",
       "      <td>...</td>\n",
       "      <td>0</td>\n",
       "      <td>0</td>\n",
       "      <td>0</td>\n",
       "      <td>0</td>\n",
       "      <td>0</td>\n",
       "      <td>0</td>\n",
       "      <td>0</td>\n",
       "      <td>0</td>\n",
       "      <td>0</td>\n",
       "      <td>1</td>\n",
       "    </tr>\n",
       "    <tr>\n",
       "      <th>10300</th>\n",
       "      <td>1</td>\n",
       "      <td>36.160569</td>\n",
       "      <td>-115.320885</td>\n",
       "      <td>3</td>\n",
       "      <td>2.5</td>\n",
       "      <td>0</td>\n",
       "      <td>0</td>\n",
       "      <td>0</td>\n",
       "      <td>0</td>\n",
       "      <td>0</td>\n",
       "      <td>...</td>\n",
       "      <td>0</td>\n",
       "      <td>0</td>\n",
       "      <td>0</td>\n",
       "      <td>0</td>\n",
       "      <td>0</td>\n",
       "      <td>0</td>\n",
       "      <td>0</td>\n",
       "      <td>0</td>\n",
       "      <td>0</td>\n",
       "      <td>1</td>\n",
       "    </tr>\n",
       "    <tr>\n",
       "      <th>15003</th>\n",
       "      <td>37</td>\n",
       "      <td>1623.793452</td>\n",
       "      <td>-3209.068869</td>\n",
       "      <td>456</td>\n",
       "      <td>158.0</td>\n",
       "      <td>0</td>\n",
       "      <td>0</td>\n",
       "      <td>0</td>\n",
       "      <td>0</td>\n",
       "      <td>0</td>\n",
       "      <td>...</td>\n",
       "      <td>0</td>\n",
       "      <td>0</td>\n",
       "      <td>0</td>\n",
       "      <td>0</td>\n",
       "      <td>0</td>\n",
       "      <td>0</td>\n",
       "      <td>0</td>\n",
       "      <td>0</td>\n",
       "      <td>0</td>\n",
       "      <td>40</td>\n",
       "    </tr>\n",
       "  </tbody>\n",
       "</table>\n",
       "<p>5 rows × 1362 columns</p>\n",
       "</div>"
      ],
      "text/plain": [
       "             is_open      latitude     longitude  review_count   stars  3d  \\\n",
       "postal_code                                                                  \n",
       "                 371  14514.917699 -43502.208616          4273  1474.5   0   \n",
       "06280              1     36.166228   -115.192580             3     5.0   0   \n",
       "08054              1     39.980331    -74.858983             5     4.0   0   \n",
       "10300              1     36.160569   -115.320885             3     2.5   0   \n",
       "15003             37   1623.793452  -3209.068869           456   158.0   0   \n",
       "\n",
       "             abatement  acai  accessories  accountants  ...    workers  wraps  \\\n",
       "postal_code                                             ...                     \n",
       "                     0     0            0            0  ...          0      1   \n",
       "06280                0     0            0            0  ...          0      0   \n",
       "08054                0     0            0            0  ...          0      0   \n",
       "10300                0     0            0            0  ...          0      0   \n",
       "15003                0     0            0            0  ...          0      0   \n",
       "\n",
       "             yelp  yoga  yogurt  your  yourself  ziplining  zoos  total  \n",
       "postal_code                                                              \n",
       "                2     0       2     0         0          0     0    410  \n",
       "06280           0     0       0     0         0          0     0      1  \n",
       "08054           0     0       0     0         0          0     0      1  \n",
       "10300           0     0       0     0         0          0     0      1  \n",
       "15003           0     0       0     0         0          0     0     40  \n",
       "\n",
       "[5 rows x 1362 columns]"
      ]
     },
     "execution_count": 87,
     "metadata": {},
     "output_type": "execute_result"
    }
   ],
   "source": [
    "# Setting up a dummy feature for total count of businesses\n",
    "# Aggregating the dataframe based on zip codes and summing up all the values\n",
    "\n",
    "df['total'] = 1\n",
    "yelp_df = df.groupby('postal_code').sum()\n",
    "yelp_df.head()"
   ]
  },
  {
   "cell_type": "code",
   "execution_count": 88,
   "metadata": {},
   "outputs": [],
   "source": [
    "# Adding postal_code to the features and resetting the index\n",
    "yelp_df['postal_code'] = yelp_df.index\n",
    "yelp_df = yelp_df.reset_index(drop = True)"
   ]
  },
  {
   "cell_type": "code",
   "execution_count": 89,
   "metadata": {},
   "outputs": [
    {
     "name": "stdout",
     "output_type": "stream",
     "text": [
      "<class 'pandas.core.frame.DataFrame'>\n",
      "Int64Index: 825 entries, 1 to 825\n",
      "Data columns (total 1 columns):\n",
      "postal_code    825 non-null int64\n",
      "dtypes: int64(1)\n",
      "memory usage: 12.9 KB\n"
     ]
    }
   ],
   "source": [
    "# Dropping the null zip code and transforming the postal_code to an int\n",
    "yelp_df = yelp_df.drop(0)\n",
    "yelp_df['postal_code'] = yelp_df['postal_code'].astype(int)\n",
    "yelp_df[['postal_code']].info()"
   ]
  },
  {
   "cell_type": "markdown",
   "metadata": {},
   "source": [
    "### Zillow Data"
   ]
  },
  {
   "cell_type": "code",
   "execution_count": 90,
   "metadata": {},
   "outputs": [],
   "source": [
    "# importing zillow data\n",
    "zillow_df_sqft = pd.read_csv('Data/Zip_MedianValuePerSqft_AllHomes.csv', encoding='windows-1252')\n",
    "zillow_df_national = pd.read_csv('Data/Zip_Zhvi_Summary_AllHomes.csv', encoding='windows-1252')"
   ]
  },
  {
   "cell_type": "code",
   "execution_count": 91,
   "metadata": {},
   "outputs": [
    {
     "data": {
      "text/html": [
       "<div>\n",
       "<style scoped>\n",
       "    .dataframe tbody tr th:only-of-type {\n",
       "        vertical-align: middle;\n",
       "    }\n",
       "\n",
       "    .dataframe tbody tr th {\n",
       "        vertical-align: top;\n",
       "    }\n",
       "\n",
       "    .dataframe thead th {\n",
       "        text-align: right;\n",
       "    }\n",
       "</style>\n",
       "<table border=\"1\" class=\"dataframe\">\n",
       "  <thead>\n",
       "    <tr style=\"text-align: right;\">\n",
       "      <th></th>\n",
       "      <th>RegionID</th>\n",
       "      <th>RegionName</th>\n",
       "      <th>City</th>\n",
       "      <th>State</th>\n",
       "      <th>Metro</th>\n",
       "      <th>CountyName</th>\n",
       "      <th>SizeRank</th>\n",
       "      <th>1996-04</th>\n",
       "      <th>1996-05</th>\n",
       "      <th>1996-06</th>\n",
       "      <th>...</th>\n",
       "      <th>2018-02</th>\n",
       "      <th>2018-03</th>\n",
       "      <th>2018-04</th>\n",
       "      <th>2018-05</th>\n",
       "      <th>2018-06</th>\n",
       "      <th>2018-07</th>\n",
       "      <th>2018-08</th>\n",
       "      <th>2018-09</th>\n",
       "      <th>2018-10</th>\n",
       "      <th>2018-11</th>\n",
       "    </tr>\n",
       "  </thead>\n",
       "  <tbody>\n",
       "    <tr>\n",
       "      <th>0</th>\n",
       "      <td>61639</td>\n",
       "      <td>10025</td>\n",
       "      <td>New York</td>\n",
       "      <td>NY</td>\n",
       "      <td>New York-Newark-Jersey City</td>\n",
       "      <td>New York County</td>\n",
       "      <td>1</td>\n",
       "      <td>199.0</td>\n",
       "      <td>199.0</td>\n",
       "      <td>200.0</td>\n",
       "      <td>...</td>\n",
       "      <td>1331</td>\n",
       "      <td>1332</td>\n",
       "      <td>1338</td>\n",
       "      <td>1346</td>\n",
       "      <td>1346</td>\n",
       "      <td>1340</td>\n",
       "      <td>1334</td>\n",
       "      <td>1329</td>\n",
       "      <td>1320</td>\n",
       "      <td>1312</td>\n",
       "    </tr>\n",
       "    <tr>\n",
       "      <th>1</th>\n",
       "      <td>84654</td>\n",
       "      <td>60657</td>\n",
       "      <td>Chicago</td>\n",
       "      <td>IL</td>\n",
       "      <td>Chicago-Naperville-Elgin</td>\n",
       "      <td>Cook County</td>\n",
       "      <td>2</td>\n",
       "      <td>155.0</td>\n",
       "      <td>156.0</td>\n",
       "      <td>156.0</td>\n",
       "      <td>...</td>\n",
       "      <td>474</td>\n",
       "      <td>477</td>\n",
       "      <td>477</td>\n",
       "      <td>477</td>\n",
       "      <td>477</td>\n",
       "      <td>477</td>\n",
       "      <td>477</td>\n",
       "      <td>478</td>\n",
       "      <td>478</td>\n",
       "      <td>479</td>\n",
       "    </tr>\n",
       "    <tr>\n",
       "      <th>2</th>\n",
       "      <td>61637</td>\n",
       "      <td>10023</td>\n",
       "      <td>New York</td>\n",
       "      <td>NY</td>\n",
       "      <td>New York-Newark-Jersey City</td>\n",
       "      <td>New York County</td>\n",
       "      <td>3</td>\n",
       "      <td>353.0</td>\n",
       "      <td>355.0</td>\n",
       "      <td>356.0</td>\n",
       "      <td>...</td>\n",
       "      <td>1646</td>\n",
       "      <td>1638</td>\n",
       "      <td>1645</td>\n",
       "      <td>1655</td>\n",
       "      <td>1650</td>\n",
       "      <td>1632</td>\n",
       "      <td>1615</td>\n",
       "      <td>1602</td>\n",
       "      <td>1588</td>\n",
       "      <td>1579</td>\n",
       "    </tr>\n",
       "  </tbody>\n",
       "</table>\n",
       "<p>3 rows × 279 columns</p>\n",
       "</div>"
      ],
      "text/plain": [
       "   RegionID  RegionName      City State                        Metro  \\\n",
       "0     61639       10025  New York    NY  New York-Newark-Jersey City   \n",
       "1     84654       60657   Chicago    IL     Chicago-Naperville-Elgin   \n",
       "2     61637       10023  New York    NY  New York-Newark-Jersey City   \n",
       "\n",
       "        CountyName  SizeRank  1996-04  1996-05  1996-06   ...     2018-02  \\\n",
       "0  New York County         1    199.0    199.0    200.0   ...        1331   \n",
       "1      Cook County         2    155.0    156.0    156.0   ...         474   \n",
       "2  New York County         3    353.0    355.0    356.0   ...        1646   \n",
       "\n",
       "   2018-03  2018-04  2018-05  2018-06  2018-07  2018-08  2018-09  2018-10  \\\n",
       "0     1332     1338     1346     1346     1340     1334     1329     1320   \n",
       "1      477      477      477      477      477      477      478      478   \n",
       "2     1638     1645     1655     1650     1632     1615     1602     1588   \n",
       "\n",
       "   2018-11  \n",
       "0     1312  \n",
       "1      479  \n",
       "2     1579  \n",
       "\n",
       "[3 rows x 279 columns]"
      ]
     },
     "execution_count": 91,
     "metadata": {},
     "output_type": "execute_result"
    }
   ],
   "source": [
    "zillow_df_sqft.head(3)"
   ]
  },
  {
   "cell_type": "code",
   "execution_count": 92,
   "metadata": {},
   "outputs": [
    {
     "data": {
      "text/html": [
       "<div>\n",
       "<style scoped>\n",
       "    .dataframe tbody tr th:only-of-type {\n",
       "        vertical-align: middle;\n",
       "    }\n",
       "\n",
       "    .dataframe tbody tr th {\n",
       "        vertical-align: top;\n",
       "    }\n",
       "\n",
       "    .dataframe thead th {\n",
       "        text-align: right;\n",
       "    }\n",
       "</style>\n",
       "<table border=\"1\" class=\"dataframe\">\n",
       "  <thead>\n",
       "    <tr style=\"text-align: right;\">\n",
       "      <th></th>\n",
       "      <th>Date</th>\n",
       "      <th>RegionID</th>\n",
       "      <th>RegionName</th>\n",
       "      <th>State</th>\n",
       "      <th>Metro</th>\n",
       "      <th>County</th>\n",
       "      <th>City</th>\n",
       "      <th>SizeRank</th>\n",
       "      <th>Zhvi</th>\n",
       "      <th>MoM</th>\n",
       "      <th>QoQ</th>\n",
       "      <th>YoY</th>\n",
       "      <th>5Year</th>\n",
       "      <th>10Year</th>\n",
       "      <th>PeakMonth</th>\n",
       "      <th>PeakQuarter</th>\n",
       "      <th>PeakZHVI</th>\n",
       "      <th>PctFallFromPeak</th>\n",
       "      <th>LastTimeAtCurrZHVI</th>\n",
       "    </tr>\n",
       "  </thead>\n",
       "  <tbody>\n",
       "    <tr>\n",
       "      <th>0</th>\n",
       "      <td>2018-11-30</td>\n",
       "      <td>61639</td>\n",
       "      <td>10025</td>\n",
       "      <td>NY</td>\n",
       "      <td>New York-Newark-Jersey City</td>\n",
       "      <td>New York County</td>\n",
       "      <td>New York</td>\n",
       "      <td>0</td>\n",
       "      <td>1064000</td>\n",
       "      <td>-0.007648</td>\n",
       "      <td>-0.021069</td>\n",
       "      <td>-0.063380</td>\n",
       "      <td>NaN</td>\n",
       "      <td>NaN</td>\n",
       "      <td>2017-12</td>\n",
       "      <td>2017-Q4</td>\n",
       "      <td>1138900</td>\n",
       "      <td>-0.065765</td>\n",
       "      <td>2017-03</td>\n",
       "    </tr>\n",
       "    <tr>\n",
       "      <th>1</th>\n",
       "      <td>2018-11-30</td>\n",
       "      <td>84654</td>\n",
       "      <td>60657</td>\n",
       "      <td>IL</td>\n",
       "      <td>Chicago-Naperville-Elgin</td>\n",
       "      <td>Cook County</td>\n",
       "      <td>Chicago</td>\n",
       "      <td>1</td>\n",
       "      <td>354000</td>\n",
       "      <td>0.007112</td>\n",
       "      <td>0.016657</td>\n",
       "      <td>0.019292</td>\n",
       "      <td>NaN</td>\n",
       "      <td>NaN</td>\n",
       "      <td>2018-11</td>\n",
       "      <td>2018-Q4</td>\n",
       "      <td>354000</td>\n",
       "      <td>0.000000</td>\n",
       "      <td>2018-11</td>\n",
       "    </tr>\n",
       "    <tr>\n",
       "      <th>2</th>\n",
       "      <td>2018-11-30</td>\n",
       "      <td>61637</td>\n",
       "      <td>10023</td>\n",
       "      <td>NY</td>\n",
       "      <td>New York-Newark-Jersey City</td>\n",
       "      <td>New York County</td>\n",
       "      <td>New York</td>\n",
       "      <td>2</td>\n",
       "      <td>1380100</td>\n",
       "      <td>-0.007051</td>\n",
       "      <td>-0.040798</td>\n",
       "      <td>-0.131958</td>\n",
       "      <td>NaN</td>\n",
       "      <td>NaN</td>\n",
       "      <td>2016-12</td>\n",
       "      <td>2016-Q4</td>\n",
       "      <td>1619900</td>\n",
       "      <td>-0.148034</td>\n",
       "      <td>2013-11</td>\n",
       "    </tr>\n",
       "  </tbody>\n",
       "</table>\n",
       "</div>"
      ],
      "text/plain": [
       "         Date  RegionID  RegionName State                        Metro  \\\n",
       "0  2018-11-30     61639       10025    NY  New York-Newark-Jersey City   \n",
       "1  2018-11-30     84654       60657    IL     Chicago-Naperville-Elgin   \n",
       "2  2018-11-30     61637       10023    NY  New York-Newark-Jersey City   \n",
       "\n",
       "            County      City  SizeRank     Zhvi       MoM       QoQ       YoY  \\\n",
       "0  New York County  New York         0  1064000 -0.007648 -0.021069 -0.063380   \n",
       "1      Cook County   Chicago         1   354000  0.007112  0.016657  0.019292   \n",
       "2  New York County  New York         2  1380100 -0.007051 -0.040798 -0.131958   \n",
       "\n",
       "   5Year  10Year PeakMonth PeakQuarter  PeakZHVI  PctFallFromPeak  \\\n",
       "0    NaN     NaN   2017-12     2017-Q4   1138900        -0.065765   \n",
       "1    NaN     NaN   2018-11     2018-Q4    354000         0.000000   \n",
       "2    NaN     NaN   2016-12     2016-Q4   1619900        -0.148034   \n",
       "\n",
       "  LastTimeAtCurrZHVI  \n",
       "0            2017-03  \n",
       "1            2018-11  \n",
       "2            2013-11  "
      ]
     },
     "execution_count": 92,
     "metadata": {},
     "output_type": "execute_result"
    }
   ],
   "source": [
    "zillow_df_national.head(3)"
   ]
  },
  {
   "cell_type": "code",
   "execution_count": 93,
   "metadata": {},
   "outputs": [],
   "source": [
    "# Selecting needed columns from both datasets\n",
    "zillow_df_sqft = zillow_df_sqft[['RegionName','2018-07','State']]\n",
    "zillow_df_national = zillow_df_national[['RegionName','Zhvi']]"
   ]
  },
  {
   "cell_type": "code",
   "execution_count": 94,
   "metadata": {},
   "outputs": [],
   "source": [
    "# lowercasing column names\n",
    "zillow_df_sqft.columns = map(str.lower, zillow_df_sqft.columns)\n",
    "zillow_df_national.columns = map(str.lower, zillow_df_national.columns)\n",
    "# renaming target column\n",
    "zillow_df_sqft.rename({'2018-07': 'price_per_sqft'}, axis=1, inplace=True)\n",
    "zillow_df_national.rename({'zhvi': 'price'}, axis=1, inplace=True)"
   ]
  },
  {
   "cell_type": "code",
   "execution_count": 95,
   "metadata": {},
   "outputs": [],
   "source": [
    "# Merging the two datasets\n",
    "zillow_df = pd.merge(left=zillow_df_sqft, right=zillow_df_national, left_on='regionname', right_on='regionname')"
   ]
  },
  {
   "cell_type": "code",
   "execution_count": 96,
   "metadata": {},
   "outputs": [
    {
     "data": {
      "text/html": [
       "<div>\n",
       "<style scoped>\n",
       "    .dataframe tbody tr th:only-of-type {\n",
       "        vertical-align: middle;\n",
       "    }\n",
       "\n",
       "    .dataframe tbody tr th {\n",
       "        vertical-align: top;\n",
       "    }\n",
       "\n",
       "    .dataframe thead th {\n",
       "        text-align: right;\n",
       "    }\n",
       "</style>\n",
       "<table border=\"1\" class=\"dataframe\">\n",
       "  <thead>\n",
       "    <tr style=\"text-align: right;\">\n",
       "      <th></th>\n",
       "      <th>regionname</th>\n",
       "      <th>price_per_sqft</th>\n",
       "      <th>state</th>\n",
       "      <th>price</th>\n",
       "    </tr>\n",
       "  </thead>\n",
       "  <tbody>\n",
       "    <tr>\n",
       "      <th>0</th>\n",
       "      <td>10025</td>\n",
       "      <td>1340</td>\n",
       "      <td>NY</td>\n",
       "      <td>1064000</td>\n",
       "    </tr>\n",
       "    <tr>\n",
       "      <th>1</th>\n",
       "      <td>60657</td>\n",
       "      <td>477</td>\n",
       "      <td>IL</td>\n",
       "      <td>354000</td>\n",
       "    </tr>\n",
       "    <tr>\n",
       "      <th>2</th>\n",
       "      <td>10023</td>\n",
       "      <td>1632</td>\n",
       "      <td>NY</td>\n",
       "      <td>1380100</td>\n",
       "    </tr>\n",
       "  </tbody>\n",
       "</table>\n",
       "</div>"
      ],
      "text/plain": [
       "   regionname  price_per_sqft state    price\n",
       "0       10025            1340    NY  1064000\n",
       "1       60657             477    IL   354000\n",
       "2       10023            1632    NY  1380100"
      ]
     },
     "execution_count": 96,
     "metadata": {},
     "output_type": "execute_result"
    }
   ],
   "source": [
    "zillow_df.head(3)"
   ]
  },
  {
   "cell_type": "code",
   "execution_count": 97,
   "metadata": {},
   "outputs": [
    {
     "data": {
      "image/png": "[encoded data removed]",
      "text/plain": [
       "<Figure size 360x720 with 1 Axes>"
      ]
     },
     "metadata": {
      "needs_background": "light"
     },
     "output_type": "display_data"
    }
   ],
   "source": [
    "# Explore the price_per_sqft by state\n",
    "plt.figure(figsize=(5,10))\n",
    "plt.barh(zillow_df.groupby('state').mean()['price_per_sqft'].sort_values().index, zillow_df.groupby('state').mean()['price_per_sqft'].sort_values())\n",
    "plt.title('Avg Square Foot Price by State - All')\n",
    "plt.xlabel('Price per Square Foot')\n",
    "plt.savefig('Images/Avg Square Foot Price by State - All')\n"
   ]
  },
  {
   "cell_type": "code",
   "execution_count": 98,
   "metadata": {},
   "outputs": [
    {
     "data": {
      "text/plain": [
       "count     50.000000\n",
       "mean     166.205246\n",
       "std       92.799310\n",
       "min       72.481752\n",
       "25%      108.959880\n",
       "50%      147.674705\n",
       "75%      185.541217\n",
       "max      512.809524\n",
       "Name: price_per_sqft, dtype: float64"
      ]
     },
     "execution_count": 98,
     "metadata": {},
     "output_type": "execute_result"
    }
   ],
   "source": [
    "# Get statistical distribution of the data\n",
    "zillow_df.groupby('state').mean()['price_per_sqft'].describe()"
   ]
  },
  {
   "cell_type": "markdown",
   "metadata": {},
   "source": [
    "### Combined Data"
   ]
  },
  {
   "cell_type": "code",
   "execution_count": 99,
   "metadata": {},
   "outputs": [
    {
     "data": {
      "text/plain": [
       "(489, 1366)"
      ]
     },
     "execution_count": 99,
     "metadata": {},
     "output_type": "execute_result"
    }
   ],
   "source": [
    "# merging yelp and zillow data together\n",
    "\n",
    "combined_df = pd.merge(yelp_df, zillow_df, left_on='postal_code', right_on='regionname').drop(['regionname'], axis=1)\n",
    "combined_df.shape"
   ]
  },
  {
   "cell_type": "code",
   "execution_count": 100,
   "metadata": {},
   "outputs": [
    {
     "data": {
      "text/plain": [
       "(378, 1366)"
      ]
     },
     "execution_count": 100,
     "metadata": {},
     "output_type": "execute_result"
    }
   ],
   "source": [
    "combined_df[combined_df['total']>=10].shape"
   ]
  },
  {
   "cell_type": "code",
   "execution_count": 101,
   "metadata": {},
   "outputs": [],
   "source": [
    "# Filtering zip codes to ensure we are collecting at least 10 businesses in each, this number was chosed \n",
    "# rather arbitrary and more analysis could be done for the sweetspot, but I want to ensure we have \n",
    "# sufficient data\n",
    "final_df = combined_df[combined_df['total']>=10]"
   ]
  },
  {
   "cell_type": "markdown",
   "metadata": {},
   "source": [
    "### Basic Features"
   ]
  },
  {
   "cell_type": "code",
   "execution_count": 102,
   "metadata": {},
   "outputs": [
    {
     "name": "stderr",
     "output_type": "stream",
     "text": [
      "/Users/dmitriy/anaconda3/lib/python3.6/site-packages/ipykernel_launcher.py:3: SettingWithCopyWarning: \n",
      "A value is trying to be set on a copy of a slice from a DataFrame.\n",
      "Try using .loc[row_indexer,col_indexer] = value instead\n",
      "\n",
      "See the caveats in the documentation: http://pandas.pydata.org/pandas-docs/stable/indexing.html#indexing-view-versus-copy\n",
      "  This is separate from the ipykernel package so we can avoid doing imports until\n",
      "/Users/dmitriy/anaconda3/lib/python3.6/site-packages/ipykernel_launcher.py:4: SettingWithCopyWarning: \n",
      "A value is trying to be set on a copy of a slice from a DataFrame.\n",
      "Try using .loc[row_indexer,col_indexer] = value instead\n",
      "\n",
      "See the caveats in the documentation: http://pandas.pydata.org/pandas-docs/stable/indexing.html#indexing-view-versus-copy\n",
      "  after removing the cwd from sys.path.\n",
      "/Users/dmitriy/anaconda3/lib/python3.6/site-packages/ipykernel_launcher.py:5: SettingWithCopyWarning: \n",
      "A value is trying to be set on a copy of a slice from a DataFrame.\n",
      "Try using .loc[row_indexer,col_indexer] = value instead\n",
      "\n",
      "See the caveats in the documentation: http://pandas.pydata.org/pandas-docs/stable/indexing.html#indexing-view-versus-copy\n",
      "  \"\"\"\n"
     ]
    }
   ],
   "source": [
    "# Creating mean stars, mean_review_count, and percent_open features\n",
    "\n",
    "final_df['stars_mean'] = final_df['stars']/final_df['total']\n",
    "final_df['mean_review_count'] = final_df['review_count']/final_df['total']\n",
    "final_df['percent_is_open'] = final_df['is_open']/final_df['total']"
   ]
  },
  {
   "cell_type": "code",
   "execution_count": 103,
   "metadata": {},
   "outputs": [
    {
     "data": {
      "text/html": [
       "<div>\n",
       "<style scoped>\n",
       "    .dataframe tbody tr th:only-of-type {\n",
       "        vertical-align: middle;\n",
       "    }\n",
       "\n",
       "    .dataframe tbody tr th {\n",
       "        vertical-align: top;\n",
       "    }\n",
       "\n",
       "    .dataframe thead th {\n",
       "        text-align: right;\n",
       "    }\n",
       "</style>\n",
       "<table border=\"1\" class=\"dataframe\">\n",
       "  <thead>\n",
       "    <tr style=\"text-align: right;\">\n",
       "      <th></th>\n",
       "      <th>is_open</th>\n",
       "      <th>latitude</th>\n",
       "      <th>longitude</th>\n",
       "      <th>review_count</th>\n",
       "      <th>stars</th>\n",
       "      <th>3d</th>\n",
       "      <th>abatement</th>\n",
       "      <th>acai</th>\n",
       "      <th>accessories</th>\n",
       "      <th>accountants</th>\n",
       "      <th>...</th>\n",
       "      <th>ziplining</th>\n",
       "      <th>zoos</th>\n",
       "      <th>total</th>\n",
       "      <th>postal_code</th>\n",
       "      <th>price_per_sqft</th>\n",
       "      <th>state</th>\n",
       "      <th>price</th>\n",
       "      <th>stars_mean</th>\n",
       "      <th>mean_review_count</th>\n",
       "      <th>percent_is_open</th>\n",
       "    </tr>\n",
       "  </thead>\n",
       "  <tbody>\n",
       "    <tr>\n",
       "      <th>2</th>\n",
       "      <td>37</td>\n",
       "      <td>1623.793452</td>\n",
       "      <td>-3209.068869</td>\n",
       "      <td>456</td>\n",
       "      <td>158.0</td>\n",
       "      <td>0</td>\n",
       "      <td>0</td>\n",
       "      <td>0</td>\n",
       "      <td>0</td>\n",
       "      <td>0</td>\n",
       "      <td>...</td>\n",
       "      <td>0</td>\n",
       "      <td>0</td>\n",
       "      <td>40</td>\n",
       "      <td>15003</td>\n",
       "      <td>65</td>\n",
       "      <td>PA</td>\n",
       "      <td>78800</td>\n",
       "      <td>3.950000</td>\n",
       "      <td>11.400000</td>\n",
       "      <td>0.925000</td>\n",
       "    </tr>\n",
       "    <tr>\n",
       "      <th>6</th>\n",
       "      <td>158</td>\n",
       "      <td>7265.418314</td>\n",
       "      <td>-14419.537822</td>\n",
       "      <td>3056</td>\n",
       "      <td>622.5</td>\n",
       "      <td>0</td>\n",
       "      <td>0</td>\n",
       "      <td>0</td>\n",
       "      <td>1</td>\n",
       "      <td>0</td>\n",
       "      <td>...</td>\n",
       "      <td>0</td>\n",
       "      <td>0</td>\n",
       "      <td>180</td>\n",
       "      <td>15017</td>\n",
       "      <td>125</td>\n",
       "      <td>PA</td>\n",
       "      <td>172200</td>\n",
       "      <td>3.458333</td>\n",
       "      <td>16.977778</td>\n",
       "      <td>0.877778</td>\n",
       "    </tr>\n",
       "    <tr>\n",
       "      <th>7</th>\n",
       "      <td>23</td>\n",
       "      <td>1094.787345</td>\n",
       "      <td>-2155.131919</td>\n",
       "      <td>160</td>\n",
       "      <td>96.0</td>\n",
       "      <td>0</td>\n",
       "      <td>0</td>\n",
       "      <td>0</td>\n",
       "      <td>0</td>\n",
       "      <td>0</td>\n",
       "      <td>...</td>\n",
       "      <td>0</td>\n",
       "      <td>0</td>\n",
       "      <td>27</td>\n",
       "      <td>15024</td>\n",
       "      <td>114</td>\n",
       "      <td>PA</td>\n",
       "      <td>152700</td>\n",
       "      <td>3.555556</td>\n",
       "      <td>5.925926</td>\n",
       "      <td>0.851852</td>\n",
       "    </tr>\n",
       "  </tbody>\n",
       "</table>\n",
       "<p>3 rows × 1369 columns</p>\n",
       "</div>"
      ],
      "text/plain": [
       "   is_open     latitude     longitude  review_count  stars  3d  abatement  \\\n",
       "2       37  1623.793452  -3209.068869           456  158.0   0          0   \n",
       "6      158  7265.418314 -14419.537822          3056  622.5   0          0   \n",
       "7       23  1094.787345  -2155.131919           160   96.0   0          0   \n",
       "\n",
       "   acai  accessories  accountants       ...         ziplining  zoos  total  \\\n",
       "2     0            0            0       ...                 0     0     40   \n",
       "6     0            1            0       ...                 0     0    180   \n",
       "7     0            0            0       ...                 0     0     27   \n",
       "\n",
       "   postal_code  price_per_sqft  state   price  stars_mean  mean_review_count  \\\n",
       "2        15003              65     PA   78800    3.950000          11.400000   \n",
       "6        15017             125     PA  172200    3.458333          16.977778   \n",
       "7        15024             114     PA  152700    3.555556           5.925926   \n",
       "\n",
       "   percent_is_open  \n",
       "2         0.925000  \n",
       "6         0.877778  \n",
       "7         0.851852  \n",
       "\n",
       "[3 rows x 1369 columns]"
      ]
     },
     "execution_count": 103,
     "metadata": {},
     "output_type": "execute_result"
    }
   ],
   "source": [
    "final_df.head(3)"
   ]
  },
  {
   "cell_type": "markdown",
   "metadata": {},
   "source": [
    "### Advanced-Features"
   ]
  },
  {
   "cell_type": "code",
   "execution_count": 104,
   "metadata": {},
   "outputs": [],
   "source": [
    "# cleaning up postal_code\n",
    "df = df[df['postal_code']!='']\n",
    "df['postal_code'] = df['postal_code'].astype(int)"
   ]
  },
  {
   "cell_type": "code",
   "execution_count": 105,
   "metadata": {},
   "outputs": [],
   "source": [
    "# Get Inertia Scores based on latitude and longatude of the data\n",
    "from sklearn.cluster import KMeans\n",
    "\n",
    "km_inertia = pd.DataFrame(columns=['inertia_scores'], index=final_df['postal_code'])\n",
    "km = KMeans(n_clusters=1, random_state=42)\n",
    "for postal_code in final_df['postal_code']:\n",
    "    temp_df = df[df['postal_code'] == postal_code][['latitude','longitude']].copy()\n",
    "    km.fit(temp_df)\n",
    "    km_inertia.loc[postal_code, 'inertia_scores'] = km.inertia_\n",
    "\n",
    "km_inertia.reset_index()\n",
    "final_df = final_df.merge(km_inertia, on='postal_code')"
   ]
  },
  {
   "cell_type": "code",
   "execution_count": 106,
   "metadata": {},
   "outputs": [
    {
     "data": {
      "text/plain": [
       "<matplotlib.axes._subplots.AxesSubplot at 0x1273be9e8>"
      ]
     },
     "execution_count": 106,
     "metadata": {},
     "output_type": "execute_result"
    },
    {
     "data": {
      "image/png": "[encoded data removed]",
      "text/plain": [
       "<Figure size 432x288 with 1 Axes>"
      ]
     },
     "metadata": {
      "needs_background": "light"
     },
     "output_type": "display_data"
    }
   ],
   "source": [
    "final_df['inertia_scores'].hist()"
   ]
  },
  {
   "cell_type": "code",
   "execution_count": 107,
   "metadata": {},
   "outputs": [],
   "source": [
    "# Remove outliers from our data very likely due to to errors in the data\n",
    "final_df = final_df[final_df['inertia_scores'] <= 10]"
   ]
  },
  {
   "cell_type": "code",
   "execution_count": 113,
   "metadata": {},
   "outputs": [
    {
     "data": {
      "image/png": "[encoded data removed]",
      "text/plain": [
       "<Figure size 432x288 with 1 Axes>"
      ]
     },
     "metadata": {
      "needs_background": "light"
     },
     "output_type": "display_data"
    }
   ],
   "source": [
    "final_df['inertia_scores'].plot()\n",
    "plt.title('Business Density - K Means Inertia Scores')\n",
    "plt.savefig('Images/Business Density - K-means Inertia Scores');"
   ]
  },
  {
   "cell_type": "code",
   "execution_count": 109,
   "metadata": {},
   "outputs": [
    {
     "data": {
      "text/plain": [
       "(351, 1370)"
      ]
     },
     "execution_count": 109,
     "metadata": {},
     "output_type": "execute_result"
    }
   ],
   "source": [
    "final_df.shape"
   ]
  },
  {
   "cell_type": "code",
   "execution_count": 110,
   "metadata": {},
   "outputs": [],
   "source": [
    "#dropping unnecessary columns\n",
    "final_df = final_df.drop(columns = ['latitude', 'longitude','postal_code'])"
   ]
  },
  {
   "cell_type": "code",
   "execution_count": 111,
   "metadata": {},
   "outputs": [],
   "source": [
    "final_df.to_csv('Data/cleaned_data.csv', index = False)"
   ]
  }
 ],
 "metadata": {
  "kernelspec": {
   "display_name": "Python 3",
   "language": "python",
   "name": "python3"
  },
  "language_info": {
   "codemirror_mode": {
    "name": "ipython",
    "version": 3
   },
   "file_extension": ".py",
   "mimetype": "text/x-python",
   "name": "python",
   "nbconvert_exporter": "python",
   "pygments_lexer": "ipython3",
   "version": "3.6.6"
  }
 },
 "nbformat": 4,
 "nbformat_minor": 2
}
