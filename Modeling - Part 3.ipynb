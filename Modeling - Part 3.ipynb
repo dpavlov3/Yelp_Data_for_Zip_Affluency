{
 "cells": [
  {
   "cell_type": "code",
   "execution_count": 91,
   "metadata": {},
   "outputs": [],
   "source": [
    "import pandas as pd\n",
    "import numpy as np\n",
    "import matplotlib.pyplot as plt\n",
    "from sklearn.linear_model import LinearRegression, LassoCV, RidgeCV\n",
    "from sklearn.model_selection import train_test_split, cross_val_score\n",
    "from sklearn.preprocessing import StandardScaler\n",
    "from sklearn.decomposition import PCA\n",
    "import warnings\n",
    "warnings.simplefilter(action='ignore', category=FutureWarning)\n",
    "\n",
    "%matplotlib inline"
   ]
  },
  {
   "cell_type": "markdown",
   "metadata": {},
   "source": [
    "#### Contents:\n",
    "- [Model Feature Selection](#Model-Feature-Selection)\n",
    "- [Reduced Features Modeling](#Reduced-Features-Modeling)\n",
    "- [Principal Component Analysis Modeling](#Principal-Component-Analysis-Modeling)\n",
    "- [Model Selection](#Model-Selection)\n",
    "- [Explore Residuals](#Explore-Residuals)"
   ]
  },
  {
   "cell_type": "code",
   "execution_count": 92,
   "metadata": {},
   "outputs": [
    {
     "data": {
      "text/html": [
       "<div>\n",
       "<style scoped>\n",
       "    .dataframe tbody tr th:only-of-type {\n",
       "        vertical-align: middle;\n",
       "    }\n",
       "\n",
       "    .dataframe tbody tr th {\n",
       "        vertical-align: top;\n",
       "    }\n",
       "\n",
       "    .dataframe thead th {\n",
       "        text-align: right;\n",
       "    }\n",
       "</style>\n",
       "<table border=\"1\" class=\"dataframe\">\n",
       "  <thead>\n",
       "    <tr style=\"text-align: right;\">\n",
       "      <th></th>\n",
       "      <th>is_open</th>\n",
       "      <th>review_count</th>\n",
       "      <th>stars</th>\n",
       "      <th>3d</th>\n",
       "      <th>abatement</th>\n",
       "      <th>acai</th>\n",
       "      <th>accessories</th>\n",
       "      <th>accountants</th>\n",
       "      <th>acne</th>\n",
       "      <th>active</th>\n",
       "      <th>...</th>\n",
       "      <th>stars_log</th>\n",
       "      <th>total_log</th>\n",
       "      <th>mean_review_count_log</th>\n",
       "      <th>state_NC</th>\n",
       "      <th>state_NV</th>\n",
       "      <th>state_OH</th>\n",
       "      <th>state_PA</th>\n",
       "      <th>state_WI</th>\n",
       "      <th>price_per_sqft_log</th>\n",
       "      <th>price_log</th>\n",
       "    </tr>\n",
       "  </thead>\n",
       "  <tbody>\n",
       "    <tr>\n",
       "      <th>0</th>\n",
       "      <td>37</td>\n",
       "      <td>456</td>\n",
       "      <td>158.0</td>\n",
       "      <td>0</td>\n",
       "      <td>0</td>\n",
       "      <td>0</td>\n",
       "      <td>0</td>\n",
       "      <td>0</td>\n",
       "      <td>0</td>\n",
       "      <td>1</td>\n",
       "      <td>...</td>\n",
       "      <td>5.062595</td>\n",
       "      <td>3.688879</td>\n",
       "      <td>2.433613</td>\n",
       "      <td>0</td>\n",
       "      <td>0</td>\n",
       "      <td>0</td>\n",
       "      <td>1</td>\n",
       "      <td>0</td>\n",
       "      <td>4.174387</td>\n",
       "      <td>11.274668</td>\n",
       "    </tr>\n",
       "    <tr>\n",
       "      <th>1</th>\n",
       "      <td>158</td>\n",
       "      <td>3056</td>\n",
       "      <td>622.5</td>\n",
       "      <td>0</td>\n",
       "      <td>0</td>\n",
       "      <td>0</td>\n",
       "      <td>1</td>\n",
       "      <td>0</td>\n",
       "      <td>0</td>\n",
       "      <td>10</td>\n",
       "      <td>...</td>\n",
       "      <td>6.433744</td>\n",
       "      <td>5.192957</td>\n",
       "      <td>2.831905</td>\n",
       "      <td>0</td>\n",
       "      <td>0</td>\n",
       "      <td>0</td>\n",
       "      <td>1</td>\n",
       "      <td>0</td>\n",
       "      <td>4.828314</td>\n",
       "      <td>12.056412</td>\n",
       "    </tr>\n",
       "    <tr>\n",
       "      <th>2</th>\n",
       "      <td>23</td>\n",
       "      <td>160</td>\n",
       "      <td>96.0</td>\n",
       "      <td>0</td>\n",
       "      <td>0</td>\n",
       "      <td>0</td>\n",
       "      <td>0</td>\n",
       "      <td>0</td>\n",
       "      <td>0</td>\n",
       "      <td>1</td>\n",
       "      <td>...</td>\n",
       "      <td>4.564348</td>\n",
       "      <td>3.295837</td>\n",
       "      <td>1.779337</td>\n",
       "      <td>0</td>\n",
       "      <td>0</td>\n",
       "      <td>0</td>\n",
       "      <td>1</td>\n",
       "      <td>0</td>\n",
       "      <td>4.736198</td>\n",
       "      <td>11.936230</td>\n",
       "    </tr>\n",
       "  </tbody>\n",
       "</table>\n",
       "<p>3 rows × 1378 columns</p>\n",
       "</div>"
      ],
      "text/plain": [
       "   is_open  review_count  stars  3d  abatement  acai  accessories  \\\n",
       "0       37           456  158.0   0          0     0            0   \n",
       "1      158          3056  622.5   0          0     0            1   \n",
       "2       23           160   96.0   0          0     0            0   \n",
       "\n",
       "   accountants  acne  active    ...      stars_log  total_log  \\\n",
       "0            0     0       1    ...       5.062595   3.688879   \n",
       "1            0     0      10    ...       6.433744   5.192957   \n",
       "2            0     0       1    ...       4.564348   3.295837   \n",
       "\n",
       "   mean_review_count_log  state_NC  state_NV  state_OH  state_PA  state_WI  \\\n",
       "0               2.433613         0         0         0         1         0   \n",
       "1               2.831905         0         0         0         1         0   \n",
       "2               1.779337         0         0         0         1         0   \n",
       "\n",
       "   price_per_sqft_log  price_log  \n",
       "0            4.174387  11.274668  \n",
       "1            4.828314  12.056412  \n",
       "2            4.736198  11.936230  \n",
       "\n",
       "[3 rows x 1378 columns]"
      ]
     },
     "execution_count": 92,
     "metadata": {},
     "output_type": "execute_result"
    }
   ],
   "source": [
    "df = pd.read_csv('Data/final_data.csv')\n",
    "df.head(3)"
   ]
  },
  {
   "cell_type": "code",
   "execution_count": 93,
   "metadata": {},
   "outputs": [
    {
     "data": {
      "text/plain": [
       "(348, 1378)"
      ]
     },
     "execution_count": 93,
     "metadata": {},
     "output_type": "execute_result"
    }
   ],
   "source": [
    "df.shape"
   ]
  },
  {
   "cell_type": "code",
   "execution_count": 94,
   "metadata": {},
   "outputs": [],
   "source": [
    "df = df.fillna(0)"
   ]
  },
  {
   "cell_type": "markdown",
   "metadata": {},
   "source": [
    "### Model Feature Selection"
   ]
  },
  {
   "cell_type": "markdown",
   "metadata": {},
   "source": [
    "##### Lasso and Ridge will be ran to determine the first modeling pass and select most important features utilizing Lasso"
   ]
  },
  {
   "cell_type": "code",
   "execution_count": 95,
   "metadata": {},
   "outputs": [],
   "source": [
    "# Set up the features and the target\n",
    "X = df.drop(columns = ['price','price_per_sqft','price_log','price_per_sqft_log'])\n",
    "y = df['price_per_sqft_log']\n",
    "X_train, X_test, y_train, y_test = train_test_split(X, y, random_state = 42)"
   ]
  },
  {
   "cell_type": "code",
   "execution_count": 96,
   "metadata": {},
   "outputs": [
    {
     "name": "stderr",
     "output_type": "stream",
     "text": [
      "/Users/dmitriy/anaconda3/lib/python3.6/site-packages/sklearn/preprocessing/data.py:625: DataConversionWarning: Data with input dtype int64, float64 were all converted to float64 by StandardScaler.\n",
      "  return self.partial_fit(X, y)\n",
      "/Users/dmitriy/anaconda3/lib/python3.6/site-packages/ipykernel_launcher.py:5: DataConversionWarning: Data with input dtype int64, float64 were all converted to float64 by StandardScaler.\n",
      "  \"\"\"\n",
      "/Users/dmitriy/anaconda3/lib/python3.6/site-packages/ipykernel_launcher.py:6: DataConversionWarning: Data with input dtype int64, float64 were all converted to float64 by StandardScaler.\n",
      "  \n"
     ]
    }
   ],
   "source": [
    "# Scale the features\n",
    "ss = StandardScaler()\n",
    "ss.fit(X_train)\n",
    "\n",
    "X_train_ss = ss.transform(X_train)\n",
    "X_test_ss = ss.transform(X_test)"
   ]
  },
  {
   "cell_type": "markdown",
   "metadata": {},
   "source": [
    "The r squared is better than expected for training and testing, but performed poorly on cross validation, want to explore this further"
   ]
  },
  {
   "cell_type": "code",
   "execution_count": 97,
   "metadata": {},
   "outputs": [
    {
     "name": "stdout",
     "output_type": "stream",
     "text": [
      "Training r^2: 0.654831677683541\n",
      "Testing r^2: 0.6111339544361767\n",
      "Cross Val r^2: 0.48588289854289196\n",
      " \n",
      "Alpha score: 0.019934444426136018\n",
      "Alpha rand: 0.00019934444426136018 0.19934444426136014\n"
     ]
    }
   ],
   "source": [
    "# Run Lasso regression and check r squared for training, testing, and cross validation\n",
    "la = LassoCV(max_iter=10000)\n",
    "la.fit(X_train_ss, y_train)\n",
    "\n",
    "print('Training r^2:', la.score(X_train_ss, y_train))\n",
    "print('Testing r^2:', la.score(X_test_ss, y_test))\n",
    "print('Cross Val r^2:', cross_val_score(la, X_train_ss, y_train).mean())\n",
    "print(\" \")\n",
    "print(\"Alpha score:\", la.alpha_)\n",
    "print(\"Alpha rand:\", min(la.alphas_), max(la.alphas_))"
   ]
  },
  {
   "cell_type": "code",
   "execution_count": 98,
   "metadata": {},
   "outputs": [
    {
     "name": "stdout",
     "output_type": "stream",
     "text": [
      "Training r^2: 0.8279969014941069\n",
      "Testing r^2: 0.4327359807491329\n",
      "Cross Val r^2: 0.33049099779272473\n",
      " \n",
      "Alpha score: 230.33628731421314\n",
      "Alpha rand: 1.0 100000.0\n"
     ]
    }
   ],
   "source": [
    "# Run Ridge regression and check r squared for training, testing, and cross validation\n",
    "ridge_alphas = np.logspace(0,5,1000)\n",
    "lr = RidgeCV(ridge_alphas)\n",
    "lr.fit(X_train_ss, y_train)\n",
    "\n",
    "print('Training r^2:', lr.score(X_train_ss, y_train))\n",
    "print('Testing r^2:', lr.score(X_test_ss, y_test))\n",
    "print('Cross Val r^2:', cross_val_score(lr, X_train_ss, y_train).mean())\n",
    "print(\" \")\n",
    "print(\"Alpha score:\", lr.alpha_)\n",
    "print(\"Alpha rand:\", min(ridge_alphas), max(ridge_alphas))"
   ]
  },
  {
   "cell_type": "code",
   "execution_count": 99,
   "metadata": {},
   "outputs": [],
   "source": [
    "# Select Lasso's coeffiecients for the features \n",
    "coefs = pd.DataFrame({\n",
    "    'variable': X_train.columns,\n",
    "    'coefs': la.coef_\n",
    "})"
   ]
  },
  {
   "cell_type": "code",
   "execution_count": 100,
   "metadata": {},
   "outputs": [
    {
     "data": {
      "text/html": [
       "<div>\n",
       "<style scoped>\n",
       "    .dataframe tbody tr th:only-of-type {\n",
       "        vertical-align: middle;\n",
       "    }\n",
       "\n",
       "    .dataframe tbody tr th {\n",
       "        vertical-align: top;\n",
       "    }\n",
       "\n",
       "    .dataframe thead th {\n",
       "        text-align: right;\n",
       "    }\n",
       "</style>\n",
       "<table border=\"1\" class=\"dataframe\">\n",
       "  <thead>\n",
       "    <tr style=\"text-align: right;\">\n",
       "      <th></th>\n",
       "      <th>variable</th>\n",
       "      <th>coefs</th>\n",
       "    </tr>\n",
       "  </thead>\n",
       "  <tbody>\n",
       "    <tr>\n",
       "      <th>1371</th>\n",
       "      <td>state_OH</td>\n",
       "      <td>-0.092655</td>\n",
       "    </tr>\n",
       "    <tr>\n",
       "      <th>1372</th>\n",
       "      <td>state_PA</td>\n",
       "      <td>-0.050686</td>\n",
       "    </tr>\n",
       "    <tr>\n",
       "      <th>1362</th>\n",
       "      <td>percent_is_open</td>\n",
       "      <td>-0.035285</td>\n",
       "    </tr>\n",
       "    <tr>\n",
       "      <th>228</th>\n",
       "      <td>chicken</td>\n",
       "      <td>-0.026105</td>\n",
       "    </tr>\n",
       "    <tr>\n",
       "      <th>1113</th>\n",
       "      <td>soul</td>\n",
       "      <td>-0.020121</td>\n",
       "    </tr>\n",
       "    <tr>\n",
       "      <th>581</th>\n",
       "      <td>himalayan</td>\n",
       "      <td>-0.011425</td>\n",
       "    </tr>\n",
       "    <tr>\n",
       "      <th>992</th>\n",
       "      <td>registration</td>\n",
       "      <td>-0.010883</td>\n",
       "    </tr>\n",
       "    <tr>\n",
       "      <th>396</th>\n",
       "      <td>dumpster</td>\n",
       "      <td>-0.010265</td>\n",
       "    </tr>\n",
       "    <tr>\n",
       "      <th>439</th>\n",
       "      <td>excavation</td>\n",
       "      <td>-0.006211</td>\n",
       "    </tr>\n",
       "    <tr>\n",
       "      <th>245</th>\n",
       "      <td>civic</td>\n",
       "      <td>-0.004924</td>\n",
       "    </tr>\n",
       "  </tbody>\n",
       "</table>\n",
       "</div>"
      ],
      "text/plain": [
       "             variable     coefs\n",
       "1371         state_OH -0.092655\n",
       "1372         state_PA -0.050686\n",
       "1362  percent_is_open -0.035285\n",
       "228           chicken -0.026105\n",
       "1113             soul -0.020121\n",
       "581         himalayan -0.011425\n",
       "992      registration -0.010883\n",
       "396          dumpster -0.010265\n",
       "439        excavation -0.006211\n",
       "245             civic -0.004924"
      ]
     },
     "execution_count": 100,
     "metadata": {},
     "output_type": "execute_result"
    }
   ],
   "source": [
    "coefs.sort_values(by= 'coefs').head(10)"
   ]
  },
  {
   "cell_type": "code",
   "execution_count": 101,
   "metadata": {},
   "outputs": [
    {
     "data": {
      "text/html": [
       "<div>\n",
       "<style scoped>\n",
       "    .dataframe tbody tr th:only-of-type {\n",
       "        vertical-align: middle;\n",
       "    }\n",
       "\n",
       "    .dataframe tbody tr th {\n",
       "        vertical-align: top;\n",
       "    }\n",
       "\n",
       "    .dataframe thead th {\n",
       "        text-align: right;\n",
       "    }\n",
       "</style>\n",
       "<table border=\"1\" class=\"dataframe\">\n",
       "  <thead>\n",
       "    <tr style=\"text-align: right;\">\n",
       "      <th></th>\n",
       "      <th>variable</th>\n",
       "      <th>coefs</th>\n",
       "    </tr>\n",
       "  </thead>\n",
       "  <tbody>\n",
       "    <tr>\n",
       "      <th>1368</th>\n",
       "      <td>mean_review_count_log</td>\n",
       "      <td>0.065833</td>\n",
       "    </tr>\n",
       "    <tr>\n",
       "      <th>1360</th>\n",
       "      <td>stars_mean</td>\n",
       "      <td>0.051183</td>\n",
       "    </tr>\n",
       "    <tr>\n",
       "      <th>1373</th>\n",
       "      <td>state_WI</td>\n",
       "      <td>0.049690</td>\n",
       "    </tr>\n",
       "    <tr>\n",
       "      <th>1365</th>\n",
       "      <td>review_count_log</td>\n",
       "      <td>0.017967</td>\n",
       "    </tr>\n",
       "    <tr>\n",
       "      <th>1246</th>\n",
       "      <td>train</td>\n",
       "      <td>0.016677</td>\n",
       "    </tr>\n",
       "    <tr>\n",
       "      <th>580</th>\n",
       "      <td>hiking</td>\n",
       "      <td>0.016436</td>\n",
       "    </tr>\n",
       "    <tr>\n",
       "      <th>1192</th>\n",
       "      <td>tapas</td>\n",
       "      <td>0.015619</td>\n",
       "    </tr>\n",
       "    <tr>\n",
       "      <th>1093</th>\n",
       "      <td>ski</td>\n",
       "      <td>0.015526</td>\n",
       "    </tr>\n",
       "    <tr>\n",
       "      <th>1346</th>\n",
       "      <td>wine</td>\n",
       "      <td>0.013842</td>\n",
       "    </tr>\n",
       "    <tr>\n",
       "      <th>531</th>\n",
       "      <td>gluten</td>\n",
       "      <td>0.012068</td>\n",
       "    </tr>\n",
       "  </tbody>\n",
       "</table>\n",
       "</div>"
      ],
      "text/plain": [
       "                   variable     coefs\n",
       "1368  mean_review_count_log  0.065833\n",
       "1360             stars_mean  0.051183\n",
       "1373               state_WI  0.049690\n",
       "1365       review_count_log  0.017967\n",
       "1246                  train  0.016677\n",
       "580                  hiking  0.016436\n",
       "1192                  tapas  0.015619\n",
       "1093                    ski  0.015526\n",
       "1346                   wine  0.013842\n",
       "531                  gluten  0.012068"
      ]
     },
     "execution_count": 101,
     "metadata": {},
     "output_type": "execute_result"
    }
   ],
   "source": [
    "coefs.sort_values(by= 'coefs', ascending = False).head(10)"
   ]
  },
  {
   "cell_type": "code",
   "execution_count": 102,
   "metadata": {},
   "outputs": [],
   "source": [
    "# Create a list of features that the model though were most impactful\n",
    "new_features = list(coefs[np.abs(coefs['coefs'])>.00001]['variable'])"
   ]
  },
  {
   "cell_type": "code",
   "execution_count": 103,
   "metadata": {},
   "outputs": [
    {
     "data": {
      "text/plain": [
       "44"
      ]
     },
     "execution_count": 103,
     "metadata": {},
     "output_type": "execute_result"
    }
   ],
   "source": [
    "len(new_features)"
   ]
  },
  {
   "cell_type": "markdown",
   "metadata": {},
   "source": [
    "### Reduced Features Modeling"
   ]
  },
  {
   "cell_type": "markdown",
   "metadata": {},
   "source": [
    "- Lasso \n",
    "- Ridge\n",
    "- Linear Regression "
   ]
  },
  {
   "cell_type": "code",
   "execution_count": 104,
   "metadata": {},
   "outputs": [],
   "source": [
    "# Setting up the filtered features and the target variable\n",
    "X = df[new_features]\n",
    "y = df['price_per_sqft_log']\n",
    "X_train, X_test, y_train, y_test = train_test_split(X, y, random_state = 42)"
   ]
  },
  {
   "cell_type": "code",
   "execution_count": 105,
   "metadata": {},
   "outputs": [
    {
     "name": "stderr",
     "output_type": "stream",
     "text": [
      "/Users/dmitriy/anaconda3/lib/python3.6/site-packages/sklearn/preprocessing/data.py:625: DataConversionWarning: Data with input dtype int64, float64 were all converted to float64 by StandardScaler.\n",
      "  return self.partial_fit(X, y)\n",
      "/Users/dmitriy/anaconda3/lib/python3.6/site-packages/ipykernel_launcher.py:5: DataConversionWarning: Data with input dtype int64, float64 were all converted to float64 by StandardScaler.\n",
      "  \"\"\"\n",
      "/Users/dmitriy/anaconda3/lib/python3.6/site-packages/ipykernel_launcher.py:6: DataConversionWarning: Data with input dtype int64, float64 were all converted to float64 by StandardScaler.\n",
      "  \n"
     ]
    }
   ],
   "source": [
    "# Scale the data\n",
    "ss = StandardScaler()\n",
    "ss.fit(X_train)\n",
    "\n",
    "X_train_ss = ss.transform(X_train)\n",
    "X_test_ss = ss.transform(X_test)"
   ]
  },
  {
   "cell_type": "code",
   "execution_count": 106,
   "metadata": {},
   "outputs": [
    {
     "name": "stdout",
     "output_type": "stream",
     "text": [
      "Training r^2: 0.7405596241235199\n",
      "Testing r^2: 0.5772735193727503\n",
      "Cross Val r^2: 0.5887290660036111\n",
      " \n",
      "Alpha score: 0.004294745859818018\n",
      "Alpha rand: 0.00019934444426136018 0.19934444426136014\n"
     ]
    }
   ],
   "source": [
    "# Run Lasso regression and check r squared for training, testing, and cross validation\n",
    "# Check the alpha to ensure it is in ~middle of the range\n",
    "\n",
    "la2 = LassoCV(max_iter=10000)\n",
    "la2.fit(X_train_ss, y_train)\n",
    "\n",
    "print('Training r^2:', la2.score(X_train_ss, y_train))\n",
    "print('Testing r^2:', la2.score(X_test_ss, y_test))\n",
    "print('Cross Val r^2:', cross_val_score(la2, X_train_ss, y_train).mean())\n",
    "print(\" \")\n",
    "print(\"Alpha score:\", la2.alpha_)\n",
    "print(\"Alpha rand:\", min(la2.alphas_), max(la2.alphas_))"
   ]
  },
  {
   "cell_type": "code",
   "execution_count": 107,
   "metadata": {},
   "outputs": [
    {
     "name": "stdout",
     "output_type": "stream",
     "text": [
      "Training r^2: 0.7309455498424318\n",
      "Testing r^2: 0.5772081528948931\n",
      "Cross Val r^2: 0.6100638132582826\n",
      " \n",
      "Alpha score: 58.44761131633635\n",
      "Alpha rand: 1.0 100000.0\n"
     ]
    }
   ],
   "source": [
    "# Run Ridge regression and check r squared for training, testing, and cross validation\n",
    "# Check the alpha to ensure it is in ~middle of the range\n",
    "\n",
    "ridge_alphas = np.logspace(0,5,1000)\n",
    "lr2 = RidgeCV(ridge_alphas)\n",
    "lr2.fit(X_train_ss, y_train)\n",
    "\n",
    "print('Training r^2:', lr2.score(X_train_ss, y_train))\n",
    "print('Testing r^2:', lr2.score(X_test_ss, y_test))\n",
    "print('Cross Val r^2:', cross_val_score(lr2, X_train_ss, y_train).mean())\n",
    "print(\" \")\n",
    "print(\"Alpha score:\", lr2.alpha_)\n",
    "print(\"Alpha rand:\", min(ridge_alphas), max(ridge_alphas))"
   ]
  },
  {
   "cell_type": "code",
   "execution_count": 108,
   "metadata": {},
   "outputs": [
    {
     "name": "stdout",
     "output_type": "stream",
     "text": [
      "Training r^2: 0.744912917931919\n",
      "Testing r^2: 0.5485667583380676\n",
      "Cross Val r^2: 0.5535659519374274\n"
     ]
    }
   ],
   "source": [
    "# Run Linear regression and check r squared for training, testing, and cross validation\n",
    "\n",
    "lrr = LinearRegression()\n",
    "lrr.fit(X_train_ss, y_train)\n",
    "\n",
    "print('Training r^2:', lrr.score(X_train_ss, y_train))\n",
    "print('Testing r^2:', lrr.score(X_test_ss, y_test))\n",
    "print('Cross Val r^2:', cross_val_score(lrr, X_train_ss, y_train).mean())"
   ]
  },
  {
   "cell_type": "markdown",
   "metadata": {},
   "source": [
    "### Principal Component Analysis Modeling"
   ]
  },
  {
   "cell_type": "markdown",
   "metadata": {},
   "source": [
    "PCA Tranformation\n",
    "\n",
    "    -Lasso \n",
    "    -Ridge\n",
    "    -Linear"
   ]
  },
  {
   "cell_type": "code",
   "execution_count": 109,
   "metadata": {},
   "outputs": [
    {
     "name": "stdout",
     "output_type": "stream",
     "text": [
      "Cumulative explained variance:  [0.18097483 0.25172546 0.30931195 0.36389126 0.40862688 0.44754751\n",
      " 0.48612759 0.52145541 0.5527752  0.58223842 0.60952202 0.63521124\n",
      " 0.66054694 0.68452707 0.70776895 0.72969366 0.7507476  0.77057643\n",
      " 0.78911146 0.8066426  0.82328079 0.83910277 0.85423885 0.86879437\n",
      " 0.88236942 0.89544737 0.90782395 0.91938819 0.93023234 0.94006847\n",
      " 0.9491049  0.95796245 0.96580943 0.97349243 0.98061473 0.98672944\n",
      " 0.99128534 0.99538787 0.99823028 0.99969487 1.         1.\n",
      " 1.         1.        ]\n"
     ]
    }
   ],
   "source": [
    "# Initiating PCA to explore to see if it can improve the model perfromance\n",
    "\n",
    "pca = PCA()\n",
    "pca.fit(X_train_ss)\n",
    "Z_train = pca.transform(X_train_ss)\n",
    "Z_test = pca.transform(X_test_ss)\n",
    "cum_var_exp = np.cumsum(var_exp)\n",
    "print('Cumulative explained variance: ', cum_var_exp)"
   ]
  },
  {
   "cell_type": "code",
   "execution_count": 110,
   "metadata": {},
   "outputs": [
    {
     "data": {
      "image/png": "[encoded data removed]",
      "text/plain": [
       "<Figure size 432x288 with 1 Axes>"
      ]
     },
     "metadata": {
      "needs_background": "light"
     },
     "output_type": "display_data"
    }
   ],
   "source": [
    "# Plotting the cumulative sum to get a better understanding of the model\n",
    "plt.plot(cum_var_exp)\n",
    "plt.title('Cumulative Sum')\n",
    "plt.savefig('Images/Cumulative Sum');"
   ]
  },
  {
   "cell_type": "code",
   "execution_count": 111,
   "metadata": {},
   "outputs": [
    {
     "data": {
      "text/plain": [
       "0.9867294435779318"
      ]
     },
     "execution_count": 111,
     "metadata": {},
     "output_type": "execute_result"
    }
   ],
   "source": [
    "# We will explore model with 35 variables to that will explain 98.7% of variability\n",
    "cum_var_exp[35]"
   ]
  },
  {
   "cell_type": "code",
   "execution_count": 112,
   "metadata": {},
   "outputs": [
    {
     "name": "stdout",
     "output_type": "stream",
     "text": [
      "Cumulative explained variance:  [0.18097483 0.25172546 0.30931195 0.36389126 0.40862688 0.44754751\n",
      " 0.48612759 0.52145541 0.5527752  0.58223842 0.60952202 0.63521124\n",
      " 0.66054694 0.68452707 0.70776895 0.72969366 0.7507476  0.77057643\n",
      " 0.78911146 0.8066426  0.82328079 0.83910277 0.85423885 0.86879437\n",
      " 0.88236942 0.89544737 0.90782395 0.91938819 0.93023234 0.94006847\n",
      " 0.9491049  0.95796245 0.96580943 0.97349243 0.98061473 0.98672944\n",
      " 0.99128534 0.99538787 0.99823028 0.99969487 1.         1.\n",
      " 1.         1.        ]\n"
     ]
    }
   ],
   "source": [
    "# Initiating PCA with 25 components\n",
    "pca = PCA(n_components=35)\n",
    "pca.fit(X_train_ss)\n",
    "Z_train = pca.transform(X_train_ss)\n",
    "Z_test = pca.transform(X_test_ss)\n",
    "cum_var_exp = np.cumsum(var_exp)\n",
    "print('Cumulative explained variance: ', cum_var_exp)"
   ]
  },
  {
   "cell_type": "code",
   "execution_count": 113,
   "metadata": {},
   "outputs": [
    {
     "name": "stdout",
     "output_type": "stream",
     "text": [
      "Training r^2: 0.7210806770178096\n",
      "Testing r^2: 0.5750168679088368\n",
      "Cross Val r^2: 0.5953333116805689\n",
      " \n",
      "Alpha score: 0.0061338744043729215\n",
      "Alpha rand: 0.0004975374641578606 0.4975374641578609\n"
     ]
    }
   ],
   "source": [
    "# Run Lasso regression and check r squared for training, testing, and cross validation\n",
    "# Check the alpha to ensure it is in ~middle of the range\n",
    "\n",
    "lapca = LassoCV(max_iter=10000)\n",
    "lapca.fit(Z_train, y_train)\n",
    "\n",
    "print('Training r^2:', lapca.score(Z_train, y_train))\n",
    "print('Testing r^2:', lapca.score(Z_test, y_test))\n",
    "print('Cross Val r^2:', cross_val_score(lapca, Z_train, y_train).mean())\n",
    "print(\" \")\n",
    "print(\"Alpha score:\", lapca.alpha_)\n",
    "print(\"Alpha rand:\", min(lapca.alphas_), max(lapca.alphas_))"
   ]
  },
  {
   "cell_type": "code",
   "execution_count": 114,
   "metadata": {},
   "outputs": [
    {
     "name": "stdout",
     "output_type": "stream",
     "text": [
      "Training r^2: 0.7228459834374437\n",
      "Testing r^2: 0.5832515203248477\n",
      "Cross Val r^2: 0.6036207847448379\n",
      " \n",
      "Alpha score: 58.44761131633635\n",
      "Alpha rand: 1.0 100000.0\n"
     ]
    }
   ],
   "source": [
    "# Run Ridge regression and check r squared for training, testing, and cross validation\n",
    "# Check the alpha to ensure it is in ~middle of the range\n",
    "\n",
    "ridge_alphas = np.logspace(0,5,1000)\n",
    "lrpca = RidgeCV(ridge_alphas)\n",
    "lrpca.fit(Z_train, y_train)\n",
    "\n",
    "print('Training r^2:', lrpca.score(Z_train, y_train))\n",
    "print('Testing r^2:', lrpca.score(Z_test, y_test))\n",
    "print('Cross Val r^2:', cross_val_score(lrpca, Z_train, y_train).mean())\n",
    "print(\" \")\n",
    "print(\"Alpha score:\", lrpca.alpha_)\n",
    "print(\"Alpha rand:\", min(ridge_alphas), max(ridge_alphas))"
   ]
  },
  {
   "cell_type": "code",
   "execution_count": 115,
   "metadata": {},
   "outputs": [
    {
     "name": "stdout",
     "output_type": "stream",
     "text": [
      "Training r^2: 0.7324849166719578\n",
      "Testing r^2: 0.5571461164952135\n",
      "Cross Val r^2: 0.5610233064950806\n"
     ]
    }
   ],
   "source": [
    "# Run Linear regression and check r squared for training, testing, and cross validation\n",
    "\n",
    "lrrpca = LinearRegression()\n",
    "lrrpca.fit(Z_train, y_train)\n",
    "\n",
    "print('Training r^2:', lrrpca.score(Z_train, y_train))\n",
    "print('Testing r^2:', lrrpca.score(Z_test, y_test))\n",
    "print('Cross Val r^2:', cross_val_score(lrrpca, Z_train, y_train).mean())"
   ]
  },
  {
   "cell_type": "markdown",
   "metadata": {},
   "source": [
    "### Model Selection"
   ]
  },
  {
   "cell_type": "markdown",
   "metadata": {},
   "source": [
    "##### Reduced featured with PCA n=35 Ridge regression performed the best:\n",
    "    -Training r^2: 0.7228459834374437\n",
    "    -Testing r^2: 0.5832515203248477\n",
    "    -Cross Val r^2: 0.6036207847448379\n",
    "    -Alpha score: 58.44761131633635\n",
    "    -Alpha rand: 1.0 100000.0\n",
    "    \n",
    "While the model still overfit we are getting rather consistent performance on testing and cross validation r squared of ~.6, which outpeformed the other models\n",
    "\n",
    "*Note: due to data intergity issues stated below the model can be trusted to provide directional price, in order to get a more accurate representation we would need a larger dataset*\n",
    "\n",
    "    -Sparse data coverage\n",
    "    -Possibility of selection bias\n",
    "    -Incomplete business data for zip  codes\n",
    "    -Lack of business dollar signs\n"
   ]
  },
  {
   "cell_type": "markdown",
   "metadata": {},
   "source": [
    "### Explore Residuals"
   ]
  },
  {
   "cell_type": "markdown",
   "metadata": {},
   "source": [
    "The model has hard time predicting more expensive zip codes due to sparsity of data"
   ]
  },
  {
   "cell_type": "code",
   "execution_count": 121,
   "metadata": {},
   "outputs": [
    {
     "data": {
      "image/png": "[encoded data removed]",
      "text/plain": [
       "<Figure size 432x288 with 1 Axes>"
      ]
     },
     "metadata": {
      "needs_background": "light"
     },
     "output_type": "display_data"
    }
   ],
   "source": [
    "# Plot actual vs predictions for test data\n",
    "plt.scatter(np.exp(y_test), np.exp(lrpca.predict(Z_test)))\n",
    "plt.plot(np.unique(np.exp(y_test)), \n",
    "        np.poly1d(np.polyfit(np.exp(y_test),  np.exp(lrpca.predict(Z_test)), 1))(np.unique(np.exp(y_test))), c = 'r')\n",
    "plt.xlim(50,360)\n",
    "plt.ylim(50,360)\n",
    "plt.title('Test: Actual vs Predictions')\n",
    "plt.xlabel('Actuals: Sq Ft Price')\n",
    "plt.ylabel('Predictions:  Sq Ft Price')\n",
    "plt.savefig('Images/Test: Actual vs Predictions');"
   ]
  },
  {
   "cell_type": "code",
   "execution_count": 125,
   "metadata": {},
   "outputs": [
    {
     "data": {
      "image/png": "[encoded data removed]",
      "text/plain": [
       "<Figure size 432x288 with 1 Axes>"
      ]
     },
     "metadata": {
      "needs_background": "light"
     },
     "output_type": "display_data"
    }
   ],
   "source": [
    "# Plot actual vs predictions for training data\n",
    "\n",
    "plt.scatter(np.exp(y_train), np.exp(lrpca.predict(Z_train)))\n",
    "plt.plot(np.unique(np.exp(y_train)), \n",
    "        np.poly1d(np.polyfit(np.exp(y_train),  np.exp(lrpca.predict(Z_train)), 1))(np.unique(np.exp(y_train))), c = 'r')\n",
    "plt.xlim(50,360)\n",
    "plt.ylim(50,360)\n",
    "plt.title('Test: Actual vs Predictions')\n",
    "plt.xlabel('Actuals: Sq Ft Price')\n",
    "plt.savefig('Images/Test: Actual vs Predictions');\n"
   ]
  },
  {
   "cell_type": "markdown",
   "metadata": {},
   "source": [
    "The residuals are normally distributes"
   ]
  },
  {
   "cell_type": "code",
   "execution_count": 126,
   "metadata": {
    "scrolled": true
   },
   "outputs": [
    {
     "data": {
      "image/png": "[encoded data removed]",
      "text/plain": [
       "<Figure size 432x288 with 1 Axes>"
      ]
     },
     "metadata": {
      "needs_background": "light"
     },
     "output_type": "display_data"
    }
   ],
   "source": [
    "# Plot the residuals distribiution for test data\n",
    "\n",
    "residuals = np.exp(y_test)- np.exp(lrpca.predict(Z_test))\n",
    "residuals.hist()\n",
    "plt.title('Test: Residuals Distribution')\n",
    "plt.savefig('Images/Test: Residuals Distribution');"
   ]
  },
  {
   "cell_type": "code",
   "execution_count": 122,
   "metadata": {
    "scrolled": true
   },
   "outputs": [
    {
     "data": {
      "image/png": "[encoded data removed]",
      "text/plain": [
       "<Figure size 432x288 with 1 Axes>"
      ]
     },
     "metadata": {
      "needs_background": "light"
     },
     "output_type": "display_data"
    }
   ],
   "source": [
    "# Plot the residuals distribiution for training data\n",
    "\n",
    "residuals = np.exp(y_train)- np.exp(lrpca.predict(Z_train))\n",
    "residuals.hist()\n",
    "plt.title('Train: Residuals Distribution')\n",
    "plt.savefig('Images/Train: Residuals Distribution');"
   ]
  },
  {
   "cell_type": "code",
   "execution_count": null,
   "metadata": {},
   "outputs": [],
   "source": []
  }
 ],
 "metadata": {
  "kernelspec": {
   "display_name": "Python 3",
   "language": "python",
   "name": "python3"
  },
  "language_info": {
   "codemirror_mode": {
    "name": "ipython",
    "version": 3
   },
   "file_extension": ".py",
   "mimetype": "text/x-python",
   "name": "python",
   "nbconvert_exporter": "python",
   "pygments_lexer": "ipython3",
   "version": "3.6.6"
  }
 },
 "nbformat": 4,
 "nbformat_minor": 2
}
